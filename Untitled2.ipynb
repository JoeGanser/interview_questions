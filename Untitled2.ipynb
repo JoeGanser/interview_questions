{
 "cells": [
  {
   "cell_type": "code",
   "execution_count": 5,
   "id": "1ed07c61",
   "metadata": {},
   "outputs": [],
   "source": [
    "class Node:\n",
    "    def __init__(self,data):\n",
    "        self.data = data\n",
    "        self.next = None\n",
    "        \n",
    "class LinkedList:\n",
    "    def __init__(self):\n",
    "        self.head = None\n",
    "        \n",
    "    def compose(self,data):\n",
    "        last = None\n",
    "        for i in data:\n",
    "            self.append(i)\n",
    "        return\n",
    "    \n",
    "    def append(self,data):\n",
    "        new_node = Node(data)\n",
    "        \n",
    "        if self.head is None:\n",
    "            self.head = new_node\n",
    "            return\n",
    "        \n",
    "        last_node = self.head\n",
    "        while last_node.next:\n",
    "            last_node = last_node.next\n",
    "            \n",
    "        last_node.next = new_node"
   ]
  },
  {
   "cell_type": "code",
   "execution_count": 1,
   "id": "b1784c48",
   "metadata": {},
   "outputs": [],
   "source": [
    "class Solution:\n",
    "    def addTwoNumbers(self,l1,l2):\n",
    "        L1 = self.put_into_int(l1)\n",
    "        L2 = self.put_into_int(l2)\n",
    "        \n",
    "        L = list(str(L1+L2))\n",
    "        L_final = []\n",
    "        for i in L:\n",
    "            if len(L_final)==0:\n",
    "                L_final.append(i)\n",
    "            else:\n",
    "                L_final = [i]+L_final\n",
    "        return L_final\n",
    "        \n",
    "        \n",
    "    def put_into_int(self,l):\n",
    "        L = []\n",
    "        while l.next:\n",
    "            if len(L)==0:\n",
    "                L.append(l.val)\n",
    "            else:\n",
    "                L = [l.val] + L\n",
    "        return int(''.join(L))"
   ]
  },
  {
   "cell_type": "code",
   "execution_count": 6,
   "id": "7f5d4a62",
   "metadata": {},
   "outputs": [],
   "source": [
    "d1=[2,4,3]\n",
    "d2=[5,6,4]\n",
    "\n",
    "l1 = LinkedList().compose(d1)\n",
    "l2 = LinkedList().compose(d2)\n",
    "l1"
   ]
  },
  {
   "cell_type": "code",
   "execution_count": 7,
   "id": "d018fae8",
   "metadata": {},
   "outputs": [
    {
     "ename": "AttributeError",
     "evalue": "'NoneType' object has no attribute 'next'",
     "output_type": "error",
     "traceback": [
      "\u001b[0;31m---------------------------------------------------------------------------\u001b[0m",
      "\u001b[0;31mAttributeError\u001b[0m                            Traceback (most recent call last)",
      "\u001b[0;32m/var/folders/jl/97zzvf352gg0qn93kb33f4th0000gn/T/ipykernel_1690/1079796133.py\u001b[0m in \u001b[0;36m<module>\u001b[0;34m\u001b[0m\n\u001b[0;32m----> 1\u001b[0;31m \u001b[0;32mwhile\u001b[0m \u001b[0ml1\u001b[0m\u001b[0;34m.\u001b[0m\u001b[0mnext\u001b[0m\u001b[0;34m:\u001b[0m\u001b[0;34m\u001b[0m\u001b[0;34m\u001b[0m\u001b[0m\n\u001b[0m\u001b[1;32m      2\u001b[0m     \u001b[0mprint\u001b[0m\u001b[0;34m(\u001b[0m\u001b[0ml1\u001b[0m\u001b[0;34m.\u001b[0m\u001b[0mval\u001b[0m\u001b[0;34m)\u001b[0m\u001b[0;34m\u001b[0m\u001b[0;34m\u001b[0m\u001b[0m\n",
      "\u001b[0;31mAttributeError\u001b[0m: 'NoneType' object has no attribute 'next'"
     ]
    }
   ],
   "source": [
    "while l1.next:\n",
    "    print(l1.val)"
   ]
  },
  {
   "cell_type": "code",
   "execution_count": 8,
   "id": "43a9437f",
   "metadata": {},
   "outputs": [
    {
     "ename": "TypeError",
     "evalue": "__init__() missing 1 required positional argument: 'data'",
     "output_type": "error",
     "traceback": [
      "\u001b[0;31m---------------------------------------------------------------------------\u001b[0m",
      "\u001b[0;31mTypeError\u001b[0m                                 Traceback (most recent call last)",
      "\u001b[0;32m/var/folders/jl/97zzvf352gg0qn93kb33f4th0000gn/T/ipykernel_1690/1712530033.py\u001b[0m in \u001b[0;36m<module>\u001b[0;34m\u001b[0m\n\u001b[0;32m----> 1\u001b[0;31m \u001b[0mL\u001b[0m \u001b[0;34m=\u001b[0m \u001b[0mNode\u001b[0m\u001b[0;34m(\u001b[0m\u001b[0;34m)\u001b[0m\u001b[0;34m\u001b[0m\u001b[0;34m\u001b[0m\u001b[0m\n\u001b[0m",
      "\u001b[0;31mTypeError\u001b[0m: __init__() missing 1 required positional argument: 'data'"
     ]
    }
   ],
   "source": [
    "L = [8,0,7]"
   ]
  },
  {
   "cell_type": "code",
   "execution_count": null,
   "id": "8084db5c",
   "metadata": {},
   "outputs": [],
   "source": []
  }
 ],
 "metadata": {
  "kernelspec": {
   "display_name": "Python 3 (ipykernel)",
   "language": "python",
   "name": "python3"
  },
  "language_info": {
   "codemirror_mode": {
    "name": "ipython",
    "version": 3
   },
   "file_extension": ".py",
   "mimetype": "text/x-python",
   "name": "python",
   "nbconvert_exporter": "python",
   "pygments_lexer": "ipython3",
   "version": "3.9.7"
  }
 },
 "nbformat": 4,
 "nbformat_minor": 5
}
