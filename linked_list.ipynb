{
 "cells": [
  {
   "cell_type": "code",
   "execution_count": 1,
   "metadata": {},
   "outputs": [],
   "source": [
    "class ListNode:\n",
    "    def __init__(self, x):\n",
    "        self.val = x\n",
    "        self.next = None\n",
    "\n",
    "class MyLinkedList:\n",
    "    def __init__(self):\n",
    "        self.size = 0\n",
    "        self.head = ListNode(0)  # sentinel node as pseudo-head\n",
    "        \n",
    "\n",
    "    def get(self, index: int) -> int:\n",
    "        \"\"\"\n",
    "        Get the value of the index-th node in the linked list. If the index is invalid, return -1.\n",
    "        \"\"\"\n",
    "        # if index is invalid\n",
    "        if index < 0 or index >= self.size:\n",
    "            return -1\n",
    "        \n",
    "        curr = self.head\n",
    "        # index steps needed \n",
    "        # to move from sentinel node to wanted index\n",
    "        for _ in range(index + 1):\n",
    "            curr = curr.next\n",
    "        return curr.val\n",
    "            \n",
    "\n",
    "    def addAtHead(self, val: int) -> None:\n",
    "        \"\"\"\n",
    "        Add a node of value val before the first element of the linked list. After the insertion, the new node will be the first node of the linked list.\n",
    "        \"\"\"\n",
    "        self.addAtIndex(0, val)\n",
    "        \n",
    "\n",
    "    def addAtTail(self, val: int) -> None:\n",
    "        \"\"\"\n",
    "        Append a node of value val to the last element of the linked list.\n",
    "        \"\"\"\n",
    "        self.addAtIndex(self.size, val)\n",
    "        \n",
    "\n",
    "    def addAtIndex(self, index: int, val: int) -> None:\n",
    "        \"\"\"\n",
    "        Add a node of value val before the index-th node in the linked list. If index equals to the length of linked list, the node will be appended to the end of linked list. If index is greater than the length, the node will not be inserted.\n",
    "        \"\"\"\n",
    "        # If index is greater than the length, \n",
    "        # the node will not be inserted.\n",
    "        if index > self.size:\n",
    "            return\n",
    "        \n",
    "        # [so weird] If index is negative, \n",
    "        # the node will be inserted at the head of the list.\n",
    "        if index < 0:\n",
    "            index = 0\n",
    "        \n",
    "        self.size += 1\n",
    "        # find predecessor of the node to be added\n",
    "        pred = self.head\n",
    "        for _ in range(index):\n",
    "            pred = pred.next\n",
    "            \n",
    "        # node to be added\n",
    "        to_add = ListNode(val)\n",
    "        # insertion itself\n",
    "        to_add.next = pred.next\n",
    "        pred.next = to_add\n",
    "        \n",
    "\n",
    "    def deleteAtIndex(self, index: int) -> None:\n",
    "        \"\"\"\n",
    "        Delete the index-th node in the linked list, if the index is valid.\n",
    "        \"\"\"\n",
    "        # if the index is invalid, do nothing\n",
    "        if index < 0 or index >= self.size:\n",
    "            return\n",
    "        \n",
    "        self.size -= 1\n",
    "        # find predecessor of the node to be deleted\n",
    "        pred = self.head\n",
    "        for _ in range(index):\n",
    "            pred = pred.next\n",
    "            \n",
    "        # delete pred.next \n",
    "        pred.next = pred.next.next"
   ]
  },
  {
   "cell_type": "code",
   "execution_count": 1,
   "metadata": {},
   "outputs": [],
   "source": [
    "#https://www.tutorialspoint.com/python_data_structure/python_linked_lists.htm"
   ]
  },
  {
   "cell_type": "code",
   "execution_count": 3,
   "metadata": {},
   "outputs": [
    {
     "name": "stdout",
     "output_type": "stream",
     "text": [
      "Sun\n",
      "Mon\n",
      "Fri\n",
      "Tue\n",
      "Wed\n",
      "Thu\n"
     ]
    }
   ],
   "source": [
    "class Node:\n",
    "    def __init__(self,data=None):\n",
    "        self.data = data\n",
    "        self.next = None\n",
    "        \n",
    "class LinkedList:\n",
    "    def __init__(self):\n",
    "        self.head = None\n",
    "        \n",
    "    def pprint(self):\n",
    "        printval = self.head\n",
    "        while printval is not None:\n",
    "            print(printval.data)\n",
    "            printval = printval.next\n",
    "            \n",
    "    def prepend(self,data):\n",
    "        newNode = Node(data)\n",
    "        \n",
    "        newNode.next = self.head\n",
    "        self.head = newNode\n",
    "        \n",
    "    def append(self,data):\n",
    "        newNode = Node(data)\n",
    "        if self.head is None:\n",
    "            self.head = newNode\n",
    "            return\n",
    "        \n",
    "        last = self.head\n",
    "        while last.next:\n",
    "            last = last.next\n",
    "        last.next = newNode\n",
    "    \n",
    "    def insert(self,middle,data):\n",
    "        if middle is None:\n",
    "            print(\"The mentioned node is absent\")\n",
    "            return\n",
    "        \n",
    "        newNode = Node(data)\n",
    "        newNode.next = middle.next\n",
    "        middle.next = newNode\n",
    "        \n",
    "L = LinkedList()\n",
    "L.head = Node(\"Mon\")\n",
    "e2 = Node(\"Tue\")\n",
    "e3 = Node(\"Wed\")\n",
    "\n",
    "L.head.next = e2\n",
    "e2.next = e3\n",
    "L.prepend(\"Sun\")\n",
    "L.append(\"Thu\")\n",
    "L.insert(L.head.next,\"Fri\")\n",
    "L.pprint()"
   ]
  },
  {
   "cell_type": "code",
   "execution_count": 5,
   "metadata": {},
   "outputs": [
    {
     "name": "stdout",
     "output_type": "stream",
     "text": [
      "1\n",
      "0\n",
      "9\n",
      "9\n"
     ]
    }
   ],
   "source": [
    "LL1 = LinkedList()\n",
    "LL1.head = Node(1)\n",
    "e2 = Node(0)\n",
    "e3 = Node(9)\n",
    "e4 = Node(9)\n",
    "LL1.head.next = e2\n",
    "e2.next = e3\n",
    "e3.next = e4\n",
    "LL1.pprint()"
   ]
  },
  {
   "cell_type": "code",
   "execution_count": 6,
   "metadata": {},
   "outputs": [
    {
     "name": "stdout",
     "output_type": "stream",
     "text": [
      "7\n",
      "3\n",
      "2\n"
     ]
    }
   ],
   "source": [
    "LL2 = LinkedList()\n",
    "LL2.head = Node(7)\n",
    "g2 = Node(3)\n",
    "g3 = Node(2)\n",
    "LL2.head.next = g2\n",
    "g2.next = g3\n",
    "LL2.pprint()"
   ]
  },
  {
   "cell_type": "markdown",
   "metadata": {},
   "source": [
    "The integers are stored inverted in the linked lists to make the addition easier. Now, the most significant digit of the number is the last element of the linked list. For the addition, we’ll start from the heads of the two linked lists. At each iteration, we add the current digits of the two lists and insert a new node with the resulting digit at the tail of the result linked list. We’ll also need to maintain carry at each step. We’ll keep doing this for all digits in both the linked lists. If one of the linked lists ends sooner, we’ll continue with the other linked list. Once both of the linked lists are exhausted, and no carry is left to be added, the algorithm will terminate."
   ]
  },
  {
   "cell_type": "code",
   "execution_count": 8,
   "metadata": {},
   "outputs": [],
   "source": [
    "LL1 = LinkedList()\n",
    "LL2 = LinkedList()\n",
    "C = LinkedList()\n",
    "\n",
    "printval1 = LL1.head\n",
    "printval2 = LL2.head\n",
    "L = LinkedList()\n",
    "L.head = None\n",
    "LLL = []\n",
    "while (printval1 is not None) or (printval2 is not None):\n",
    "    a = printval1.data\n",
    "    b = printval2.data\n",
    "    c = int(list(str(a+b))[0])\n",
    "    N = Node(c)\n",
    "    if L.head == None:\n",
    "        L.head = N\n",
    "    LLL.append(N)\n",
    "    if LLL[-1].next==None:\n",
    "        LLL[-1].next = N\n",
    "    printval1 = printval1.next\n",
    "    printval2 = printval2.next"
   ]
  },
  {
   "cell_type": "code",
   "execution_count": 20,
   "metadata": {},
   "outputs": [],
   "source": [
    "def add_integers(integer1,integer2):\n",
    "    result = None\n",
    "    last = None\n",
    "    carry = 0\n",
    "    while (integer1 != None or integer2 != None or carry>0):\n",
    "        first = (0 if integer1 == None else integer1.data)\n",
    "        second = (0 if integer2 == None else integer2.data)\n",
    "        Sum = first + second+carry\n",
    "        pNew = LinkedListNode(Sum%10)\n",
    "        carry = Sum//10\n",
    "        if result == None:\n",
    "            result = pNew\n",
    "        else:\n",
    "            last.next = pNew\n",
    "            \n",
    "        last = pNew\n",
    "        if integer1 != None:\n",
    "            integer1 = integer1.next\n",
    "        \n",
    "        if integer2 != None:\n",
    "            integer2 = integer2.next"
   ]
  },
  {
   "cell_type": "code",
   "execution_count": 21,
   "metadata": {},
   "outputs": [
    {
     "name": "stdout",
     "output_type": "stream",
     "text": [
      "Sum:\n"
     ]
    },
    {
     "data": {
      "text/plain": [
       "None"
      ]
     },
     "metadata": {},
     "output_type": "display_data"
    }
   ],
   "source": [
    "first = LinkedList().compose([1, 2, 3]) #321\n",
    "second = LinkedList().compose([1, 2]) #21\n",
    "print(\"Sum:\")\n",
    "result = add_integers(first, second)\n",
    "display(result)"
   ]
  },
  {
   "cell_type": "code",
   "execution_count": 7,
   "metadata": {},
   "outputs": [],
   "source": [
    "def reverse_words(sentence):\n",
    "    L = list(sentence)\n",
    "    m = len(L)-1\n",
    "    s = ''\n",
    "    while m>-1:\n",
    "        c = L[m]\n",
    "        s = s+c\n",
    "        m=m-1\n",
    "    return s"
   ]
  },
  {
   "cell_type": "code",
   "execution_count": 8,
   "metadata": {},
   "outputs": [
    {
     "data": {
      "text/plain": [
       "'resnaG eo'"
      ]
     },
     "execution_count": 8,
     "metadata": {},
     "output_type": "execute_result"
    }
   ],
   "source": [
    "sentence = 'Joe Ganser'\n",
    "reverse_words(sentence)"
   ]
  },
  {
   "cell_type": "code",
   "execution_count": 11,
   "metadata": {},
   "outputs": [
    {
     "name": "stdout",
     "output_type": "stream",
     "text": [
      "resnaG eoJ\n"
     ]
    }
   ],
   "source": [
    "L = list(sentence)\n",
    "m = len(L)-1\n",
    "s = ''\n",
    "while m>-1:\n",
    "    c = L[m]\n",
    "    s = s+c\n",
    "    m=m-1\n",
    "print(s)"
   ]
  },
  {
   "cell_type": "code",
   "execution_count": 10,
   "metadata": {},
   "outputs": [
    {
     "data": {
      "text/plain": [
       "'o'"
      ]
     },
     "execution_count": 10,
     "metadata": {},
     "output_type": "execute_result"
    }
   ],
   "source": [
    "c"
   ]
  },
  {
   "cell_type": "code",
   "execution_count": 2,
   "metadata": {},
   "outputs": [
    {
     "data": {
      "text/plain": [
       "2"
      ]
     },
     "execution_count": 2,
     "metadata": {},
     "output_type": "execute_result"
    }
   ],
   "source": [
    "s = {1:'a',2:'b'}\n",
    "[j for j in s if s[j]=='b'][0]"
   ]
  },
  {
   "cell_type": "code",
   "execution_count": null,
   "metadata": {},
   "outputs": [],
   "source": []
  }
 ],
 "metadata": {
  "kernelspec": {
   "display_name": "Python 3 (ipykernel)",
   "language": "python",
   "name": "python3"
  },
  "language_info": {
   "codemirror_mode": {
    "name": "ipython",
    "version": 3
   },
   "file_extension": ".py",
   "mimetype": "text/x-python",
   "name": "python",
   "nbconvert_exporter": "python",
   "pygments_lexer": "ipython3",
   "version": "3.9.7"
  }
 },
 "nbformat": 4,
 "nbformat_minor": 2
}
