{
 "cells": [
  {
   "cell_type": "code",
   "execution_count": null,
   "id": "089d07b8",
   "metadata": {},
   "outputs": [],
   "source": [
    "class Solution:\n",
    "    def maxArea(self,height):\n",
    "        memo = {}\n",
    "        \n",
    "    def maxArea_bottom_up(self,height,k,memo):\n",
    "        i1,i2 = k.split()\n",
    "        if memo[k] is not None:\n",
    "            return memo[k]\n",
    "        if i1==i2:\n",
    "            result = 0\n",
    "        else:\n",
    "            for index,i in \n",
    "            result = maxArea_bottom_up()"
   ]
  },
  {
   "cell_type": "code",
   "execution_count": 9,
   "id": "72982f98",
   "metadata": {},
   "outputs": [
    {
     "name": "stdout",
     "output_type": "stream",
     "text": [
      "index1: 0, index2: 8\n",
      "beginning:  1  end:  7\n",
      "distance: 8\n",
      "area: {} 8\n",
      "\n",
      "\n",
      "index1: 1, index2: 7\n",
      "beginning:  8  end:  3\n",
      "distance: 6\n",
      "area: {} 18\n",
      "\n",
      "\n",
      "index1: 2, index2: 6\n",
      "beginning:  6  end:  8\n",
      "distance: 4\n",
      "area: {} 24\n",
      "\n",
      "\n",
      "index1: 3, index2: 5\n",
      "beginning:  2  end:  4\n",
      "distance: 2\n",
      "area: {} 4\n",
      "\n",
      "\n"
     ]
    },
    {
     "data": {
      "text/plain": [
       "24"
      ]
     },
     "execution_count": 9,
     "metadata": {},
     "output_type": "execute_result"
    }
   ],
   "source": [
    "class Solution:\n",
    "    def maxArea(self, height):\n",
    "        index2 = len(height)-1\n",
    "        index1 = 0\n",
    "        max_area = 0\n",
    "        while index2>index1:\n",
    "            beginning = height[index1]\n",
    "            end = height[index2]\n",
    "            distance = index2-index1\n",
    "            max_height = min(beginning,end)\n",
    "            area = distance*max_height\n",
    "            print('index1: {}, index2: {}'.format(index1,index2))\n",
    "            print('beginning: ',beginning,' end: ',end)\n",
    "            print('distance:',distance)\n",
    "            print('area: {}',area)\n",
    "            print('\\n')\n",
    "            if area>max_area:\n",
    "                max_area = area\n",
    "            index1 = index1 + 1\n",
    "            index2 = index2 - 1\n",
    "        return max_area\n",
    "    \n",
    "S = Solution()\n",
    "height = [1,8,6,2,5,4,8,3,7]\n",
    "S.maxArea(height)"
   ]
  },
  {
   "cell_type": "code",
   "execution_count": 3,
   "id": "a868fe08",
   "metadata": {},
   "outputs": [],
   "source": [
    "class Solution:\n",
    "    def maxArea(self, height):\n",
    "        index2 = len(height)-1\n",
    "        index1 = 0\n",
    "        max_area = 0\n",
    "        while index2>index1:\n",
    "            beginning = height[index1]\n",
    "            end = height[index2]\n",
    "            distance = index2-index1\n",
    "            height = min(beginning,end)\n",
    "            area = distance*height\n",
    "            if area>max_area:\n",
    "                max_area = area\n",
    "            index1 = index1 + 1\n",
    "            index2 = index2 - 1\n",
    "        return max_area"
   ]
  },
  {
   "cell_type": "code",
   "execution_count": 4,
   "id": "bbdf3c25",
   "metadata": {},
   "outputs": [
    {
     "data": {
      "text/plain": [
       "7"
      ]
     },
     "execution_count": 4,
     "metadata": {},
     "output_type": "execute_result"
    }
   ],
   "source": [
    "height[8]"
   ]
  },
  {
   "cell_type": "code",
   "execution_count": 6,
   "id": "c01d2d00",
   "metadata": {},
   "outputs": [
    {
     "ename": "TypeError",
     "evalue": "object of type 'int' has no len()",
     "output_type": "error",
     "traceback": [
      "\u001b[0;31m---------------------------------------------------------------------------\u001b[0m",
      "\u001b[0;31mTypeError\u001b[0m                                 Traceback (most recent call last)",
      "\u001b[0;32m/var/folders/jl/97zzvf352gg0qn93kb33f4th0000gn/T/ipykernel_1459/2588942530.py\u001b[0m in \u001b[0;36m<module>\u001b[0;34m\u001b[0m\n\u001b[0;32m----> 1\u001b[0;31m \u001b[0mindex2\u001b[0m \u001b[0;34m=\u001b[0m \u001b[0mlen\u001b[0m\u001b[0;34m(\u001b[0m\u001b[0mheight\u001b[0m\u001b[0;34m)\u001b[0m\u001b[0;34m-\u001b[0m\u001b[0;36m1\u001b[0m\u001b[0;34m\u001b[0m\u001b[0;34m\u001b[0m\u001b[0m\n\u001b[0m\u001b[1;32m      2\u001b[0m \u001b[0mindex1\u001b[0m \u001b[0;34m=\u001b[0m \u001b[0;36m0\u001b[0m\u001b[0;34m\u001b[0m\u001b[0;34m\u001b[0m\u001b[0m\n\u001b[1;32m      3\u001b[0m \u001b[0mmax_area\u001b[0m \u001b[0;34m=\u001b[0m \u001b[0;36m0\u001b[0m\u001b[0;34m\u001b[0m\u001b[0;34m\u001b[0m\u001b[0m\n\u001b[1;32m      4\u001b[0m \u001b[0mbeginning\u001b[0m \u001b[0;34m=\u001b[0m \u001b[0mheight\u001b[0m\u001b[0;34m[\u001b[0m\u001b[0mindex1\u001b[0m\u001b[0;34m]\u001b[0m\u001b[0;34m\u001b[0m\u001b[0;34m\u001b[0m\u001b[0m\n\u001b[1;32m      5\u001b[0m \u001b[0mend\u001b[0m \u001b[0;34m=\u001b[0m \u001b[0mheight\u001b[0m\u001b[0;34m[\u001b[0m\u001b[0mindex2\u001b[0m\u001b[0;34m]\u001b[0m\u001b[0;34m\u001b[0m\u001b[0;34m\u001b[0m\u001b[0m\n",
      "\u001b[0;31mTypeError\u001b[0m: object of type 'int' has no len()"
     ]
    }
   ],
   "source": [
    "height = [1,8,6,2,5,4,8,3,7]\n",
    "index2 = len(height)-1\n",
    "index1 = 0\n",
    "max_area = 0\n",
    "beginning = height[index1]\n",
    "end = height[index2]\n",
    "print(beginning)\n",
    "pring(end)\n",
    "while index2>index1:\n",
    "    beginning = height[index1]\n",
    "    end = height[index2]\n",
    "    distance = index2-index1\n",
    "    height = min(beginning,end)\n",
    "    area = distance*height\n",
    "    if area>max_area:\n",
    "        max_area = area\n",
    "    index1 = index1 + 1\n",
    "    index2 = index2 - 1"
   ]
  },
  {
   "cell_type": "code",
   "execution_count": null,
   "id": "ba12fad8",
   "metadata": {},
   "outputs": [],
   "source": []
  }
 ],
 "metadata": {
  "kernelspec": {
   "display_name": "Python 3 (ipykernel)",
   "language": "python",
   "name": "python3"
  },
  "language_info": {
   "codemirror_mode": {
    "name": "ipython",
    "version": 3
   },
   "file_extension": ".py",
   "mimetype": "text/x-python",
   "name": "python",
   "nbconvert_exporter": "python",
   "pygments_lexer": "ipython3",
   "version": "3.9.7"
  }
 },
 "nbformat": 4,
 "nbformat_minor": 5
}
