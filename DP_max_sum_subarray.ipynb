{
 "cells": [
  {
   "cell_type": "code",
   "execution_count": null,
   "id": "de62fb81",
   "metadata": {},
   "outputs": [],
   "source": [
    "nums = [-2,1,-3,4,-1,2,1,-5,4]\n",
    "\n",
    "max_sum_is = [4,-1,2,1]\n",
    "length = len(nums)\n",
    "\n",
    "for i in range(length):\n",
    "    for j in range(i+1,length):\n",
    "        print(i,j)\n",
    "        print(nums[i:j])"
   ]
  },
  {
   "cell_type": "code",
   "execution_count": null,
   "id": "e7b76557",
   "metadata": {},
   "outputs": [],
   "source": [
    "def factorial_bottom_up(array):\n",
    "    n = len(array)\n",
    "    bottom_up = [None]*(n+1)\n",
    "    bottom_up[0]=array[0]\n",
    "    for i in range(1,n):\n",
    "        for j in range(i+1,n):\n",
    "            bottom_up[i] = j+bottom_up\n",
    "    return bottom_up[n]"
   ]
  },
  {
   "cell_type": "code",
   "execution_count": null,
   "id": "25e4b0f5",
   "metadata": {},
   "outputs": [],
   "source": [
    "array = [-2,1,-3,4,-1,2,1,-5,4]\n",
    "\n",
    "#array = [5,4,-1,7,8]\n",
    "length = len(array)\n",
    "for i in range(0,length):\n",
    "    for j in range(i+1,length):\n",
    "        s = array[j]+sum(array[i:j])\n",
    "        print(s)"
   ]
  },
  {
   "cell_type": "code",
   "execution_count": 5,
   "id": "9c988879",
   "metadata": {},
   "outputs": [
    {
     "name": "stdout",
     "output_type": "stream",
     "text": [
      "0\n"
     ]
    }
   ],
   "source": [
    "#array = [-2,1,-3,4,-1,2,1,-5,4]\n",
    "#array = [5,4,-1,7,8]\n",
    "array = [-1]\n",
    "dummy = [0]*(len(array)+1)\n",
    "maxes = [0]*(len(array)+1)\n",
    "length = len(array)\n",
    "dummy[0] = array[0]\n",
    "dummy[1] = sum(array[0:1])\n",
    "maxes[0:1]=dummy[0:1]\n",
    "for i in range(0,length):\n",
    "    for j in range(i+1,length):\n",
    "        s = array[j]+dummy[i]\n",
    "        dummy[i]=s\n",
    "        if s==max(maxes[i],s):\n",
    "            maxes[i]=s\n",
    "print(max(maxes))"
   ]
  },
  {
   "cell_type": "code",
   "execution_count": 6,
   "id": "d0169015",
   "metadata": {},
   "outputs": [
    {
     "data": {
      "text/plain": [
       "[-1, -1]"
      ]
     },
     "execution_count": 6,
     "metadata": {},
     "output_type": "execute_result"
    }
   ],
   "source": [
    "dummy"
   ]
  },
  {
   "cell_type": "code",
   "execution_count": 1,
   "id": "dab6dad1",
   "metadata": {},
   "outputs": [],
   "source": [
    "def maxSubArray(array):\n",
    "    length = len(array)\n",
    "    dummy = [0]*(length+1)\n",
    "    maxes = [0]*(length+1)\n",
    "    dummy[0] = array[0]\n",
    "    dummy[1] = sum(array[0:1])\n",
    "    maxes[0:1]=dummy[0:1]\n",
    "    for i in range(0,length):\n",
    "        for j in range(i+1,length):\n",
    "            s = array[j]+dummy[i]\n",
    "            dummy[i]=s\n",
    "            if s==max(maxes[i],s):\n",
    "                maxes[i]=s\n",
    "    return max(maxes)"
   ]
  },
  {
   "cell_type": "code",
   "execution_count": 4,
   "id": "074cd31e",
   "metadata": {},
   "outputs": [
    {
     "data": {
      "text/plain": [
       "0"
      ]
     },
     "execution_count": 4,
     "metadata": {},
     "output_type": "execute_result"
    }
   ],
   "source": [
    "#array = [-2,1,-3,4,-1,2,1,-5,4]\n",
    "#array = [5,4,-1,7,8]\n",
    "array = [-1]\n",
    "maxSubArray(array)"
   ]
  },
  {
   "cell_type": "code",
   "execution_count": null,
   "id": "1bb7a2c0",
   "metadata": {},
   "outputs": [],
   "source": []
  }
 ],
 "metadata": {
  "kernelspec": {
   "display_name": "Python 3 (ipykernel)",
   "language": "python",
   "name": "python3"
  },
  "language_info": {
   "codemirror_mode": {
    "name": "ipython",
    "version": 3
   },
   "file_extension": ".py",
   "mimetype": "text/x-python",
   "name": "python",
   "nbconvert_exporter": "python",
   "pygments_lexer": "ipython3",
   "version": "3.9.7"
  }
 },
 "nbformat": 4,
 "nbformat_minor": 5
}
