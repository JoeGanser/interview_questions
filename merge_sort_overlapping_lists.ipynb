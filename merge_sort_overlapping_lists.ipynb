{
 "cells": [
  {
   "cell_type": "code",
   "execution_count": 5,
   "id": "97f38656",
   "metadata": {},
   "outputs": [],
   "source": [
    "L = [[1,3],[2,6],[8,10],[15,18]]\n",
    "O = [[1,6],[8,10],[15,18]]"
   ]
  },
  {
   "cell_type": "code",
   "execution_count": null,
   "id": "3e2ce606",
   "metadata": {},
   "outputs": [],
   "source": []
  },
  {
   "cell_type": "code",
   "execution_count": 7,
   "id": "6cdd6a4c",
   "metadata": {},
   "outputs": [
    {
     "name": "stdout",
     "output_type": "stream",
     "text": [
      "[1, 2, 8, 15]\n",
      "[3, 6, 10, 18]\n"
     ]
    }
   ],
   "source": [
    "beginnings=[i[0] for i in L]\n",
    "ends = [i[1] for i in L]\n",
    "print(beginnings)\n",
    "print(ends)"
   ]
  },
  {
   "cell_type": "code",
   "execution_count": null,
   "id": "7d575f3f",
   "metadata": {},
   "outputs": [],
   "source": [
    "l = []\n",
    "for index in range(len(L)-1):\n",
    "    if L[index][1]>=L[index+1][0]:\n",
    "        element = [L[index][0],L[index+1][1]]\n",
    "    else:\n",
    "        element = L[index]\n",
    "    "
   ]
  }
 ],
 "metadata": {
  "kernelspec": {
   "display_name": "Python 3 (ipykernel)",
   "language": "python",
   "name": "python3"
  },
  "language_info": {
   "codemirror_mode": {
    "name": "ipython",
    "version": 3
   },
   "file_extension": ".py",
   "mimetype": "text/x-python",
   "name": "python",
   "nbconvert_exporter": "python",
   "pygments_lexer": "ipython3",
   "version": "3.9.7"
  }
 },
 "nbformat": 4,
 "nbformat_minor": 5
}
