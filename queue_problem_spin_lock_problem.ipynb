{
 "cells": [
  {
   "cell_type": "code",
   "execution_count": null,
   "id": "e79ac51a",
   "metadata": {},
   "outputs": [],
   "source": [
    "class Solution:\n",
    "    def openLock(self, deadends: List[str], target: str) -> int:\n",
    "        graph = list(range(10000))\n",
    "        for i in graph:\n",
    "            s = str(i)\n",
    "            if len(s)<4:\n",
    "                k = 4-len(s)\n",
    "                graph[i] = '0'*k+s\n",
    "            else:\n",
    "                graph[i] = s\n",
    "        start = '0000'\n",
    "        queue = [start]\n",
    "        visited = set([start])\n",
    "        count = 0\n",
    "        while queue:\n",
    "            node = queue.pop()\n",
    "            for index in range(4):\n",
    "                for j in [-1,1]:\n",
    "                    k = list(node)\n",
    "                    temp = int(node[index])+j\n",
    "                    if temp>-1:\n",
    "                        k[index]=str(temp)\n",
    "                    k=''.join(k)\n",
    "                    if k not in deadends and (int(k)>0 or int(k)<10000) and k!=node:\n",
    "                        queue.append(k)\n",
    "                        count+=1"
   ]
  },
  {
   "cell_type": "code",
   "execution_count": 1,
   "id": "585608c3",
   "metadata": {},
   "outputs": [],
   "source": [
    "graph = list(range(10000))\n",
    "for i in graph:\n",
    "    s = str(i)\n",
    "    if len(s)<4:\n",
    "        k = 4-len(s)\n",
    "        graph[i] = '0'*k+s\n",
    "    else:\n",
    "        graph[i] = s      "
   ]
  },
  {
   "cell_type": "code",
   "execution_count": 19,
   "id": "8d47d40d",
   "metadata": {},
   "outputs": [
    {
     "name": "stdout",
     "output_type": "stream",
     "text": [
      "0000\n",
      "1000\n",
      "0000\n",
      "0100\n",
      "0000\n",
      "0010\n",
      "0000\n",
      "0001\n"
     ]
    },
    {
     "data": {
      "text/plain": [
       "['1000', '0100', '0010', '0001']"
      ]
     },
     "execution_count": 19,
     "metadata": {},
     "output_type": "execute_result"
    }
   ],
   "source": [
    "g = graph[0]\n",
    "neighbors = []\n",
    "for index in range(4):\n",
    "    for j in [-1,1]:\n",
    "        k = list(g)\n",
    "        temp = int(g[index])+j\n",
    "        if temp>-1:\n",
    "            k[index] = str(temp)\n",
    "        k = ''.join(k)\n",
    "        print(k)\n",
    "        if k not in deadends and (int(k)>0 or int(k)<10000) and k!=g:\n",
    "            neighbors.append(k)\n",
    "neighbors"
   ]
  },
  {
   "cell_type": "code",
   "execution_count": 6,
   "id": "d8d44747",
   "metadata": {},
   "outputs": [],
   "source": [
    "deadends = [\"0201\",\"0101\",\"0102\",\"1212\",\"2002\"]"
   ]
  },
  {
   "cell_type": "code",
   "execution_count": null,
   "id": "0060f4f8",
   "metadata": {},
   "outputs": [],
   "source": []
  }
 ],
 "metadata": {
  "kernelspec": {
   "display_name": "Python 3 (ipykernel)",
   "language": "python",
   "name": "python3"
  },
  "language_info": {
   "codemirror_mode": {
    "name": "ipython",
    "version": 3
   },
   "file_extension": ".py",
   "mimetype": "text/x-python",
   "name": "python",
   "nbconvert_exporter": "python",
   "pygments_lexer": "ipython3",
   "version": "3.9.7"
  }
 },
 "nbformat": 4,
 "nbformat_minor": 5
}
