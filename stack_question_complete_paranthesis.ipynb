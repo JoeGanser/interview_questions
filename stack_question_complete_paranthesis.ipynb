{
 "cells": [
  {
   "cell_type": "code",
   "execution_count": 1,
   "id": "0f3ca542",
   "metadata": {},
   "outputs": [
    {
     "data": {
      "text/plain": [
       "')'"
      ]
     },
     "execution_count": 1,
     "metadata": {},
     "output_type": "execute_result"
    }
   ],
   "source": [
    "#'(', ')', '{', '}', '[' and ']'\n",
    "\n",
    "d = {'(':')',')':'(','[':']',']':'[','{':'}','}':'{'}\n",
    "\n",
    "d['(']"
   ]
  },
  {
   "cell_type": "code",
   "execution_count": 2,
   "id": "40402cdb",
   "metadata": {},
   "outputs": [
    {
     "data": {
      "text/plain": [
       "4"
      ]
     },
     "execution_count": 2,
     "metadata": {},
     "output_type": "execute_result"
    }
   ],
   "source": [
    "v= '{}()[][[]]'\n",
    "\n",
    "v.index('[')"
   ]
  },
  {
   "cell_type": "code",
   "execution_count": 4,
   "id": "35d52b05",
   "metadata": {},
   "outputs": [],
   "source": [
    "#let v be the stack:"
   ]
  },
  {
   "cell_type": "code",
   "execution_count": 7,
   "id": "7e1f3f69",
   "metadata": {},
   "outputs": [
    {
     "data": {
      "text/plain": [
       "['b', 'c']"
      ]
     },
     "execution_count": 7,
     "metadata": {},
     "output_type": "execute_result"
    }
   ],
   "source": [
    "f = ['a','b','c']\n",
    "\n",
    "i = 0\n",
    "f[i+1:]"
   ]
  },
  {
   "cell_type": "code",
   "execution_count": 17,
   "id": "774ff301",
   "metadata": {},
   "outputs": [
    {
     "name": "stdout",
     "output_type": "stream",
     "text": [
      "['{', '}', '(', ')', '[', ']', '[', '[', ']', ']']\n"
     ]
    },
    {
     "data": {
      "text/plain": [
       "8"
      ]
     },
     "execution_count": 17,
     "metadata": {},
     "output_type": "execute_result"
    }
   ],
   "source": [
    "stack = list(v)\n",
    "index = 0\n",
    "char = stack[0]\n",
    "opposite = d[char]\n",
    "print(stack)\n",
    "#check outer\n",
    "if opposite == stack[-1]:\n",
    "    stack.pop(-1)\n",
    "    stack.pop(0)\n",
    "else:\n",
    "    #check left looking right\n",
    "    if opposite in stack[index+1:]:\n",
    "        stack.pop(stack.index(opposite))\n",
    "        stack.pop(0)\n",
    "        \n",
    "len(stack)"
   ]
  },
  {
   "cell_type": "code",
   "execution_count": null,
   "id": "379ef8d3",
   "metadata": {},
   "outputs": [],
   "source": [
    "def split_stack(stack):\n",
    "    char = stack[0]\n",
    "    opposite = d[char]\n",
    "    if opposite == stack[-1]:\n",
    "        stack.pop(-1)\n",
    "        stack.pop(0)\n",
    "    elif opposite in stack[index+1:]:\n",
    "            stack.pop(stack.index(opposite))\n",
    "            stack.pop(0)\n",
    "    \n",
    "def split_stack(stack):\n",
    "    char = stack[0]\n",
    "    opposite = d[char]\n",
    "    if opposite in stack[1:]:\n",
    "        stack.pop(stack.index(opposite))\n",
    "        stack.pop(0)\n",
    "    else:\n",
    "        stack = [-1]\n",
    "    return stack"
   ]
  },
  {
   "cell_type": "code",
   "execution_count": null,
   "id": "387f6599",
   "metadata": {},
   "outputs": [],
   "source": [
    "stack = list(v)\n",
    "while stack or stack!=[-1]:\n",
    "    stack = split_stack(stack)\n",
    "\n",
    "if len(stack)==0:\n",
    "    return 'VALID'\n",
    "else:\n",
    "    return 'INVALID'"
   ]
  }
 ],
 "metadata": {
  "kernelspec": {
   "display_name": "Python 3 (ipykernel)",
   "language": "python",
   "name": "python3"
  },
  "language_info": {
   "codemirror_mode": {
    "name": "ipython",
    "version": 3
   },
   "file_extension": ".py",
   "mimetype": "text/x-python",
   "name": "python",
   "nbconvert_exporter": "python",
   "pygments_lexer": "ipython3",
   "version": "3.9.7"
  }
 },
 "nbformat": 4,
 "nbformat_minor": 5
}
