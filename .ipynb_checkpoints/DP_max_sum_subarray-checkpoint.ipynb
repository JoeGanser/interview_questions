{
 "cells": [
  {
   "cell_type": "code",
   "execution_count": 17,
   "id": "de62fb81",
   "metadata": {},
   "outputs": [
    {
     "name": "stdout",
     "output_type": "stream",
     "text": [
      "0 1\n",
      "[-2]\n",
      "0 2\n",
      "[-2, 1]\n",
      "0 3\n",
      "[-2, 1, -3]\n",
      "0 4\n",
      "[-2, 1, -3, 4]\n",
      "0 5\n",
      "[-2, 1, -3, 4, -1]\n",
      "0 6\n",
      "[-2, 1, -3, 4, -1, 2]\n",
      "0 7\n",
      "[-2, 1, -3, 4, -1, 2, 1]\n",
      "0 8\n",
      "[-2, 1, -3, 4, -1, 2, 1, -5]\n",
      "1 2\n",
      "[1]\n",
      "1 3\n",
      "[1, -3]\n",
      "1 4\n",
      "[1, -3, 4]\n",
      "1 5\n",
      "[1, -3, 4, -1]\n",
      "1 6\n",
      "[1, -3, 4, -1, 2]\n",
      "1 7\n",
      "[1, -3, 4, -1, 2, 1]\n",
      "1 8\n",
      "[1, -3, 4, -1, 2, 1, -5]\n",
      "2 3\n",
      "[-3]\n",
      "2 4\n",
      "[-3, 4]\n",
      "2 5\n",
      "[-3, 4, -1]\n",
      "2 6\n",
      "[-3, 4, -1, 2]\n",
      "2 7\n",
      "[-3, 4, -1, 2, 1]\n",
      "2 8\n",
      "[-3, 4, -1, 2, 1, -5]\n",
      "3 4\n",
      "[4]\n",
      "3 5\n",
      "[4, -1]\n",
      "3 6\n",
      "[4, -1, 2]\n",
      "3 7\n",
      "[4, -1, 2, 1]\n",
      "3 8\n",
      "[4, -1, 2, 1, -5]\n",
      "4 5\n",
      "[-1]\n",
      "4 6\n",
      "[-1, 2]\n",
      "4 7\n",
      "[-1, 2, 1]\n",
      "4 8\n",
      "[-1, 2, 1, -5]\n",
      "5 6\n",
      "[2]\n",
      "5 7\n",
      "[2, 1]\n",
      "5 8\n",
      "[2, 1, -5]\n",
      "6 7\n",
      "[1]\n",
      "6 8\n",
      "[1, -5]\n",
      "7 8\n",
      "[-5]\n"
     ]
    }
   ],
   "source": [
    "nums = [-2,1,-3,4,-1,2,1,-5,4]\n",
    "\n",
    "max_sum_is = [4,-1,2,1]\n",
    "length = len(nums)\n",
    "\n",
    "for i in range(length):\n",
    "    for j in range(i+1,length):\n",
    "        print(i,j)\n",
    "        print(nums[i:j])"
   ]
  },
  {
   "cell_type": "code",
   "execution_count": null,
   "id": "e7b76557",
   "metadata": {},
   "outputs": [],
   "source": [
    "def factorial_bottom_up(array):\n",
    "    n = len(array)\n",
    "    bottom_up = [None]*(n+1)\n",
    "    bottom_up[0]=array[0]\n",
    "    for i in range(1,n):\n",
    "        for j in range(i+1,n):\n",
    "            bottom_up[i] = j+bottom_up\n",
    "    return bottom_up[n]"
   ]
  },
  {
   "cell_type": "code",
   "execution_count": 20,
   "id": "25e4b0f5",
   "metadata": {},
   "outputs": [
    {
     "name": "stdout",
     "output_type": "stream",
     "text": [
      "-2\n",
      "2\n",
      "1\n",
      "3\n",
      "4\n",
      "-1\n",
      "3\n",
      "1\n",
      "0\n",
      "2\n",
      "3\n",
      "-2\n",
      "2\n",
      "3\n",
      "5\n",
      "6\n",
      "1\n",
      "5\n",
      "1\n",
      "2\n",
      "-3\n",
      "1\n",
      "3\n",
      "-2\n",
      "2\n",
      "-4\n",
      "0\n",
      "-1\n"
     ]
    }
   ],
   "source": [
    "array = [-2,1,-3,4,-1,2,1,-5,4]\n",
    "length = len(array)\n",
    "for i in range(1,length):\n",
    "    for j in range(i+1,length):\n",
    "        s = array[j]+sum(array[i:j])\n",
    "        print(s)"
   ]
  },
  {
   "cell_type": "code",
   "execution_count": null,
   "id": "9c988879",
   "metadata": {},
   "outputs": [],
   "source": [
    "def partial_sums(array):\n",
    "    "
   ]
  }
 ],
 "metadata": {
  "kernelspec": {
   "display_name": "Python 3 (ipykernel)",
   "language": "python",
   "name": "python3"
  },
  "language_info": {
   "codemirror_mode": {
    "name": "ipython",
    "version": 3
   },
   "file_extension": ".py",
   "mimetype": "text/x-python",
   "name": "python",
   "nbconvert_exporter": "python",
   "pygments_lexer": "ipython3",
   "version": "3.9.7"
  }
 },
 "nbformat": 4,
 "nbformat_minor": 5
}
