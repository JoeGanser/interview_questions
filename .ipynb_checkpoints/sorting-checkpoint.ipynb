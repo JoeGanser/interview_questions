{
 "cells": [
  {
   "cell_type": "markdown",
   "id": "4b390a11",
   "metadata": {},
   "source": [
    "# merge sort Time complexity O(nLogn)\n",
    "# merge sort space complexity O(n)"
   ]
  },
  {
   "cell_type": "code",
   "execution_count": 2,
   "id": "93c00c34",
   "metadata": {},
   "outputs": [],
   "source": [
    "def mergeSort(arr):\n",
    "    if len(arr) > 1:\n",
    "         # Finding the mid of the array\n",
    "        mid = len(arr)//2\n",
    "        # Dividing the array elements\n",
    "        L = arr[:mid]\n",
    "        # into 2 halves\n",
    "        R = arr[mid:]\n",
    "        # Sorting the first half\n",
    "        mergeSort(L)\n",
    "        # Sorting the second half\n",
    "        mergeSort(R)\n",
    "        i = j = k = 0\n",
    "        # Copy data to temp arrays L[] and R[]\n",
    "        while i < len(L) and j < len(R):\n",
    "            if L[i] < R[j]:\n",
    "                arr[k] = L[i]\n",
    "                i += 1\n",
    "            else:\n",
    "                arr[k] = R[j]\n",
    "                j += 1\n",
    "            k += 1\n",
    "        # Checking if any element was left\n",
    "        while i < len(L):\n",
    "            arr[k] = L[i]\n",
    "            i += 1\n",
    "            k += 1 \n",
    "        while j < len(R):\n",
    "            arr[k] = R[j]\n",
    "            j += 1\n",
    "            k += 1"
   ]
  },
  {
   "cell_type": "markdown",
   "id": "2a3d5c83",
   "metadata": {},
   "source": [
    "# Quick sort time complexity (NlogN)"
   ]
  },
  {
   "cell_type": "code",
   "execution_count": 4,
   "id": "a86de448",
   "metadata": {},
   "outputs": [],
   "source": [
    "# Python3 implementation of QuickSort \n",
    " \n",
    " \n",
    "# Function to find the partition position\n",
    "def partition(array, low, high):\n",
    "    # Choose the rightmost element as pivot\n",
    "    pivot = array[high]\n",
    " \n",
    "    # Pointer for greater element\n",
    "    i = low - 1\n",
    " \n",
    "    # Traverse through all elements\n",
    "    # compare each element with pivot\n",
    "    for j in range(low, high):\n",
    "        if array[j] <= pivot:\n",
    "            # If element smaller than pivot is found\n",
    "            # swap it with the greater element pointed by i\n",
    "            i = i + 1\n",
    " \n",
    "            # Swapping element at i with element at j\n",
    "            (array[i], array[j]) = (array[j], array[i])\n",
    " \n",
    "      # Swap the pivot element with the greater element specified by i\n",
    "    (array[i + 1], array[high]) = (array[high], array[i + 1])\n",
    " \n",
    "    # Return the position from where partition is done\n",
    "    return i + 1\n",
    " \n",
    "# Function to perform quicksort\n",
    "def quick_sort(array, low, high):\n",
    "    if low < high:\n",
    "        # Find pivot element such that\n",
    "        # element smaller than pivot are on the left\n",
    "        # element greater than pivot are on the right\n",
    "        pi = partition(array, low, high)\n",
    " \n",
    "        # Recursive call on the left of pivot\n",
    "        quick_sort(array, low, pi - 1)\n",
    " \n",
    "        # Recursive call on the right of pivot\n",
    "        quick_sort(array, pi + 1, high)"
   ]
  }
 ],
 "metadata": {
  "kernelspec": {
   "display_name": "Python 3 (ipykernel)",
   "language": "python",
   "name": "python3"
  },
  "language_info": {
   "codemirror_mode": {
    "name": "ipython",
    "version": 3
   },
   "file_extension": ".py",
   "mimetype": "text/x-python",
   "name": "python",
   "nbconvert_exporter": "python",
   "pygments_lexer": "ipython3",
   "version": "3.9.7"
  }
 },
 "nbformat": 4,
 "nbformat_minor": 5
}
