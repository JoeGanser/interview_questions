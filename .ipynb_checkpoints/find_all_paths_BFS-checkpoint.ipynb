{
 "cells": [
  {
   "cell_type": "code",
   "execution_count": 12,
   "id": "74da87a0",
   "metadata": {},
   "outputs": [],
   "source": [
    "import collections\n",
    "class Solution:\n",
    "    def validPath(self,n,edges,start,end):\n",
    "        \n",
    "        adjacency_list = [[] for _ in range(n)]\n",
    "        for a, b in edges:\n",
    "            adjacency_list[a].append(b)\n",
    "            adjacency_list[b].append(a)\n",
    "        \n",
    "        queue = collections.deque([start])\n",
    "        seen = set([start])\n",
    "        path = set([start])\n",
    "        \n",
    "        while queue:\n",
    "            # Get the current node.\n",
    "            node = queue.popleft()\n",
    "            \n",
    "            # Check if we have reached the target node.\n",
    "            if node == end:\n",
    "                print(seen)\n",
    "                return True\n",
    "            \n",
    "            # Add all neighbors to the queue.\n",
    "            for neighbor in adjacency_list[node]:\n",
    "                # Check if neighbor has been added to the queue before.\n",
    "                if neighbor not in seen:\n",
    "                    seen.add(neighbor)\n",
    "                    queue.append(neighbor)\n",
    "                if neighbor not in path:\n",
    "                    path.add(neighbor)\n",
    "        # Our queue is empty and we did not reach the end node.\n",
    "        return False"
   ]
  },
  {
   "cell_type": "code",
   "execution_count": 13,
   "id": "146f9e0c",
   "metadata": {},
   "outputs": [
    {
     "name": "stdout",
     "output_type": "stream",
     "text": [
      "{0, 1, 2}\n"
     ]
    },
    {
     "data": {
      "text/plain": [
       "True"
      ]
     },
     "execution_count": 13,
     "metadata": {},
     "output_type": "execute_result"
    }
   ],
   "source": [
    "s = Solution()\n",
    "edges= [[0,1],[1,2],[2,0]]\n",
    "s.validPath(3,edges,0,1)"
   ]
  },
  {
   "cell_type": "code",
   "execution_count": null,
   "id": "3dbb8f77",
   "metadata": {},
   "outputs": [],
   "source": [
    "class Solution:\n",
    "    def validPath(self,n,edges,start,end):\n",
    "        adjacency_list = [[] for _ in range(n)]\n",
    "        \n",
    "        for a,b in edges:\n",
    "            adjacency_list[a].append(b)\n",
    "            adjacency_list[b].append(a)\n",
    "            \n",
    "        queue = collections.deque([start])\n",
    "        seen = set([start])\n",
    "        \n",
    "        while queue:\n",
    "            node = queue.popleft()\n",
    "            \n",
    "            if node == end:\n",
    "                return True\n",
    "            \n",
    "            for neighbor in adjacency_list[node]:\n",
    "                    if neighbor not in see:\n",
    "                        seen.add(neighbor)\n",
    "                        queue.append(neighbor)\n",
    "                        \n",
    "        return False"
   ]
  }
 ],
 "metadata": {
  "kernelspec": {
   "display_name": "Python 3 (ipykernel)",
   "language": "python",
   "name": "python3"
  },
  "language_info": {
   "codemirror_mode": {
    "name": "ipython",
    "version": 3
   },
   "file_extension": ".py",
   "mimetype": "text/x-python",
   "name": "python",
   "nbconvert_exporter": "python",
   "pygments_lexer": "ipython3",
   "version": "3.9.7"
  }
 },
 "nbformat": 4,
 "nbformat_minor": 5
}
