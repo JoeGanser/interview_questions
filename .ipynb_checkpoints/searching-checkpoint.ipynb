{
 "cells": [
  {
   "cell_type": "markdown",
   "id": "ee04c13a",
   "metadata": {},
   "source": [
    "# Linear Search"
   ]
  },
  {
   "cell_type": "code",
   "execution_count": 1,
   "id": "2a850b98",
   "metadata": {},
   "outputs": [],
   "source": [
    "def linear_search(data,search_key):\n",
    "    for index,value in enumerate(data):\n",
    "        if value==search_key:\n",
    "            print(f'value is at index :{index}')\n",
    "            return index\n",
    "    return -1"
   ]
  },
  {
   "cell_type": "markdown",
   "id": "039bd6a9",
   "metadata": {},
   "source": [
    "# Binary Search"
   ]
  },
  {
   "cell_type": "code",
   "execution_count": 2,
   "id": "0616bc69",
   "metadata": {},
   "outputs": [
    {
     "data": {
      "text/plain": [
       "2"
      ]
     },
     "execution_count": 2,
     "metadata": {},
     "output_type": "execute_result"
    }
   ],
   "source": [
    "def binary_search(data,key):\n",
    "    low = 0\n",
    "    high = len(data)-1\n",
    "    middle = (low+high+1)//2\n",
    "    location=-1\n",
    "    while low<=high and location==-1:\n",
    "        if key == data[middle]:\n",
    "            location=middle\n",
    "        elif key<data[middle]:\n",
    "            high =middle-1\n",
    "        else:\n",
    "            low = middle+1\n",
    "        middle = (low+high+1)//2\n",
    "    return location\n",
    "\n",
    "data=[10, 19, 22, 55, 75, 300]\n",
    "key_to_search_for = 22\n",
    "binary_search(data,key_to_search_for)"
   ]
  }
 ],
 "metadata": {
  "kernelspec": {
   "display_name": "Python 3 (ipykernel)",
   "language": "python",
   "name": "python3"
  },
  "language_info": {
   "codemirror_mode": {
    "name": "ipython",
    "version": 3
   },
   "file_extension": ".py",
   "mimetype": "text/x-python",
   "name": "python",
   "nbconvert_exporter": "python",
   "pygments_lexer": "ipython3",
   "version": "3.9.7"
  }
 },
 "nbformat": 4,
 "nbformat_minor": 5
}
