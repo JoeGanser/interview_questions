{
 "cells": [
  {
   "cell_type": "markdown",
   "id": "852ab93b",
   "metadata": {},
   "source": [
    "# Binary Search Tree Problem"
   ]
  },
  {
   "cell_type": "code",
   "execution_count": 3,
   "id": "ded540ae",
   "metadata": {},
   "outputs": [
    {
     "name": "stdout",
     "output_type": "stream",
     "text": [
      "20\n",
      "30\n",
      "40\n",
      "50\n",
      "60\n",
      "70\n"
     ]
    }
   ],
   "source": [
    "class Node:\n",
    "    def __init__(self,data):\n",
    "        self.val = data\n",
    "        self.left = None\n",
    "        self.right = None\n",
    "\n",
    "def insert(root,key):\n",
    "    if root is None:\n",
    "        return Node(key)\n",
    "    else:\n",
    "        if root.val==key:\n",
    "            return root\n",
    "        elif root.val<key:\n",
    "            root.right = insert(root.right,key)\n",
    "        else:\n",
    "            root.left = insert(root.left,key)\n",
    "    return root\n",
    "\n",
    "def inorder(root):\n",
    "    if root:\n",
    "        inorder(root.left)\n",
    "        print(root.val)\n",
    "        inorder(root.right)\n",
    "        \n",
    "r = Node(50)\n",
    "for _ in [30,20,40,70,60,70]:\n",
    "    r = insert(r,_)\n",
    "    \n",
    "inorder(r)"
   ]
  },
  {
   "cell_type": "code",
   "execution_count": 4,
   "id": "3d9fdc03",
   "metadata": {},
   "outputs": [],
   "source": [
    "def search(root,key):\n",
    "    if root is None or root.val==key:\n",
    "        return root\n",
    "    if root.val<key:\n",
    "        return search(root.right,key)\n",
    "    return search(root.left,key)"
   ]
  },
  {
   "cell_type": "code",
   "execution_count": 5,
   "id": "73e1c1c3",
   "metadata": {},
   "outputs": [
    {
     "data": {
      "text/plain": [
       "<__main__.Node at 0x7fdae7e5e400>"
      ]
     },
     "execution_count": 5,
     "metadata": {},
     "output_type": "execute_result"
    }
   ],
   "source": [
    "search(r,40)"
   ]
  },
  {
   "cell_type": "code",
   "execution_count": 10,
   "id": "55df08d1",
   "metadata": {},
   "outputs": [],
   "source": [
    "def search_depth(root,key,depth):\n",
    "    if root is None or root.val==key:\n",
    "        print(depth)\n",
    "        return root,depth\n",
    "    depth=depth+1\n",
    "    if root.val<key:\n",
    "        return search_depth(root.right,key,depth)\n",
    "    return search_depth(root.left,key,depth)"
   ]
  },
  {
   "cell_type": "code",
   "execution_count": 11,
   "id": "21bda442",
   "metadata": {},
   "outputs": [
    {
     "name": "stdout",
     "output_type": "stream",
     "text": [
      "2\n"
     ]
    },
    {
     "data": {
      "text/plain": [
       "(<__main__.Node at 0x7fdae7e5e400>, 2)"
      ]
     },
     "execution_count": 11,
     "metadata": {},
     "output_type": "execute_result"
    }
   ],
   "source": [
    "search_depth(r,40,0)"
   ]
  },
  {
   "cell_type": "code",
   "execution_count": null,
   "id": "ba2a980c",
   "metadata": {},
   "outputs": [],
   "source": []
  }
 ],
 "metadata": {
  "kernelspec": {
   "display_name": "Python 3 (ipykernel)",
   "language": "python",
   "name": "python3"
  },
  "language_info": {
   "codemirror_mode": {
    "name": "ipython",
    "version": 3
   },
   "file_extension": ".py",
   "mimetype": "text/x-python",
   "name": "python",
   "nbconvert_exporter": "python",
   "pygments_lexer": "ipython3",
   "version": "3.9.7"
  }
 },
 "nbformat": 4,
 "nbformat_minor": 5
}
