{
 "cells": [
  {
   "cell_type": "code",
   "execution_count": 2,
   "id": "c450e754",
   "metadata": {},
   "outputs": [],
   "source": [
    "temps = [73,74,75,71,69,72,76,73]\n",
    "Output = [1,1,4,2,1,1,0,0]"
   ]
  },
  {
   "cell_type": "code",
   "execution_count": 11,
   "id": "f288faa2",
   "metadata": {},
   "outputs": [
    {
     "name": "stdout",
     "output_type": "stream",
     "text": [
      "que:  [73, 74]\n",
      "stack:  [75, 71, 69, 72, 76, 73]\n",
      "que:  [74, 75]\n",
      "stack:  [71, 69, 72, 76, 73]\n",
      "que:  [75, 71]\n",
      "stack:  [69, 72, 76, 73]\n",
      "que:  [75, 71, 69]\n",
      "stack:  [72, 76, 73]\n",
      "que:  [75, 71, 69, 72]\n",
      "stack:  [76, 73]\n",
      "que:  [75, 71, 69, 72, 76]\n",
      "stack:  [73]\n",
      "que:  [71, 69, 72, 76, 73]\n",
      "stack:  []\n"
     ]
    },
    {
     "data": {
      "text/plain": [
       "[1, 1, 2, 3, 4, 4, 5, 0]"
      ]
     },
     "execution_count": 11,
     "metadata": {},
     "output_type": "execute_result"
    }
   ],
   "source": [
    "temps = [73,74,75,71,69,72,76,73]\n",
    "Output = [1,1,4,2,1,1,0,0]\n",
    "\n",
    "index = 0\n",
    "que = [temps[index]]\n",
    "stack = temps[index+1:]\n",
    "counts = [0]*len(temps)\n",
    "while stack:\n",
    "    M = max(que)\n",
    "    que.append(stack.pop(0))\n",
    "    print('que: ',que)\n",
    "    print('stack: ',stack)\n",
    "    if M!=max(que):\n",
    "        que.pop(0)\n",
    "    counts[index]=len(que)\n",
    "    index+=1\n",
    "counts"
   ]
  },
  {
   "cell_type": "code",
   "execution_count": 13,
   "id": "7bec1f27",
   "metadata": {},
   "outputs": [
    {
     "name": "stdout",
     "output_type": "stream",
     "text": [
      "73 74 1\n",
      "74 75 1\n",
      "75 71\n",
      "71 69\n",
      "69 72 1\n",
      "72 76 1\n"
     ]
    },
    {
     "data": {
      "text/plain": [
       "[]"
      ]
     },
     "execution_count": 13,
     "metadata": {},
     "output_type": "execute_result"
    }
   ],
   "source": [
    "big_stack = temps\n",
    "stack = [temps[0]]\n",
    "counts = []\n",
    "\n",
    "for i in range(len(temps)):\n",
    "    for j in range(1,len(temps[i+1:])):\n",
    "        t1 = temps[i]\n",
    "        t2 = temps[i+j]\n",
    "        if t1<t2:\n",
    "            print(t1,t2,j)\n",
    "            break\n",
    "        elif t1>=t2:\n",
    "            print(t1,t2)\n",
    "            break\n",
    "counts    "
   ]
  },
  {
   "cell_type": "code",
   "execution_count": null,
   "id": "c3b3e2f0",
   "metadata": {},
   "outputs": [],
   "source": []
  }
 ],
 "metadata": {
  "kernelspec": {
   "display_name": "Python 3 (ipykernel)",
   "language": "python",
   "name": "python3"
  },
  "language_info": {
   "codemirror_mode": {
    "name": "ipython",
    "version": 3
   },
   "file_extension": ".py",
   "mimetype": "text/x-python",
   "name": "python",
   "nbconvert_exporter": "python",
   "pygments_lexer": "ipython3",
   "version": "3.9.7"
  }
 },
 "nbformat": 4,
 "nbformat_minor": 5
}
