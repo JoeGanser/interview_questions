{
 "cells": [
  {
   "cell_type": "markdown",
   "id": "8e2bb6b7",
   "metadata": {},
   "source": [
    "https://timeseriesreasoning.com/contents/poisson-regression-model/"
   ]
  },
  {
   "cell_type": "code",
   "execution_count": 63,
   "id": "3d304bf7",
   "metadata": {},
   "outputs": [],
   "source": [
    "import pandas as pd\n",
    "import numpy as np\n",
    "from patsy import dmatrices\n",
    "import statsmodels.api as sm\n",
    "import matplotlib.pyplot as plt\n",
    "import datetime"
   ]
  },
  {
   "cell_type": "markdown",
   "id": "7b93a53f",
   "metadata": {},
   "source": [
    "we will not use the date variable as a regressor since it contains an absolute date value but we dont need to do anything special to drop date as it is already consumed as the index of the pandas dataframe. so it will not be available to us in the X matrix\n",
    "\n",
    "Lets create training and testing data sets"
   ]
  },
  {
   "cell_type": "code",
   "execution_count": 103,
   "id": "a17dc1af",
   "metadata": {},
   "outputs": [
    {
     "data": {
      "text/html": [
       "<div>\n",
       "<style scoped>\n",
       "    .dataframe tbody tr th:only-of-type {\n",
       "        vertical-align: middle;\n",
       "    }\n",
       "\n",
       "    .dataframe tbody tr th {\n",
       "        vertical-align: top;\n",
       "    }\n",
       "\n",
       "    .dataframe thead th {\n",
       "        text-align: right;\n",
       "    }\n",
       "</style>\n",
       "<table border=\"1\" class=\"dataframe\">\n",
       "  <thead>\n",
       "    <tr style=\"text-align: right;\">\n",
       "      <th></th>\n",
       "      <th>DAY</th>\n",
       "      <th>HIGH_T</th>\n",
       "      <th>LOW_T</th>\n",
       "      <th>PRECIP</th>\n",
       "      <th>BB_COUNT</th>\n",
       "      <th>MONTH</th>\n",
       "      <th>DAY_OF_WEEK</th>\n",
       "    </tr>\n",
       "  </thead>\n",
       "  <tbody>\n",
       "    <tr>\n",
       "      <th>5</th>\n",
       "      <td>2017-06-01</td>\n",
       "      <td>78.1</td>\n",
       "      <td>62.1</td>\n",
       "      <td>0.00</td>\n",
       "      <td>3468</td>\n",
       "      <td>June</td>\n",
       "      <td>Thursday</td>\n",
       "    </tr>\n",
       "    <tr>\n",
       "      <th>6</th>\n",
       "      <td>2017-06-02</td>\n",
       "      <td>73.9</td>\n",
       "      <td>60.1</td>\n",
       "      <td>0.01</td>\n",
       "      <td>3271</td>\n",
       "      <td>June</td>\n",
       "      <td>Friday</td>\n",
       "    </tr>\n",
       "    <tr>\n",
       "      <th>7</th>\n",
       "      <td>2017-06-03</td>\n",
       "      <td>72.0</td>\n",
       "      <td>55.0</td>\n",
       "      <td>0.01</td>\n",
       "      <td>2589</td>\n",
       "      <td>June</td>\n",
       "      <td>Saturday</td>\n",
       "    </tr>\n",
       "    <tr>\n",
       "      <th>8</th>\n",
       "      <td>2017-06-04</td>\n",
       "      <td>68.0</td>\n",
       "      <td>60.1</td>\n",
       "      <td>0.09</td>\n",
       "      <td>1805</td>\n",
       "      <td>June</td>\n",
       "      <td>Sunday</td>\n",
       "    </tr>\n",
       "    <tr>\n",
       "      <th>9</th>\n",
       "      <td>2017-06-05</td>\n",
       "      <td>66.9</td>\n",
       "      <td>60.1</td>\n",
       "      <td>0.02</td>\n",
       "      <td>2171</td>\n",
       "      <td>June</td>\n",
       "      <td>Monday</td>\n",
       "    </tr>\n",
       "  </tbody>\n",
       "</table>\n",
       "</div>"
      ],
      "text/plain": [
       "          DAY  HIGH_T  LOW_T  PRECIP  BB_COUNT MONTH DAY_OF_WEEK\n",
       "5  2017-06-01    78.1   62.1    0.00      3468  June    Thursday\n",
       "6  2017-06-02    73.9   60.1    0.01      3271  June      Friday\n",
       "7  2017-06-03    72.0   55.0    0.01      2589  June    Saturday\n",
       "8  2017-06-04    68.0   60.1    0.09      1805  June      Sunday\n",
       "9  2017-06-05    66.9   60.1    0.02      2171  June      Monday"
      ]
     },
     "execution_count": 103,
     "metadata": {},
     "output_type": "execute_result"
    }
   ],
   "source": [
    "df = pd.read_csv('bicycles.csv', header=0, infer_datetime_format=True, parse_dates=[0], index_col=[0])\n",
    "df.columns = [i.upper() for i in df.columns]\n",
    "#df['DAY'] =  df['DAY'].apply(lambda x: datetime.strptime(x, '%d/%m/%y %H:%M:%S'))\n",
    "df.rename(columns={'HIGH TEMP (°F)':'HIGH_T','LOW TEMP (°F)':'LOW_T',\n",
    "                   'PRECIPITATION':'PRECIP','BROOKLYN BRIDGE':'BB_COUNT'},inplace=True)\n",
    "#df.set_index('DAY',inplace=True)\n",
    "ds = df.index.to_series()\n",
    "df.head()"
   ]
  },
  {
   "cell_type": "code",
   "execution_count": 104,
   "id": "ada8633e",
   "metadata": {},
   "outputs": [
    {
     "name": "stdout",
     "output_type": "stream",
     "text": [
      "training data set length:  118\n",
      "testing data set length:  35\n"
     ]
    }
   ],
   "source": [
    "mask = np.random.rand(len(df))<0.8\n",
    "df_train = df[mask]\n",
    "df_test = df[~mask]\n",
    "print('training data set length: ',df_train.shape[0])\n",
    "print('testing data set length: ',df_test.shape[0])"
   ]
  },
  {
   "cell_type": "code",
   "execution_count": 105,
   "id": "524b0e1e",
   "metadata": {},
   "outputs": [
    {
     "data": {
      "text/html": [
       "<div>\n",
       "<style scoped>\n",
       "    .dataframe tbody tr th:only-of-type {\n",
       "        vertical-align: middle;\n",
       "    }\n",
       "\n",
       "    .dataframe tbody tr th {\n",
       "        vertical-align: top;\n",
       "    }\n",
       "\n",
       "    .dataframe thead th {\n",
       "        text-align: right;\n",
       "    }\n",
       "</style>\n",
       "<table border=\"1\" class=\"dataframe\">\n",
       "  <thead>\n",
       "    <tr style=\"text-align: right;\">\n",
       "      <th></th>\n",
       "      <th>Intercept</th>\n",
       "      <th>DAY_OF_WEEK[T.Monday]</th>\n",
       "      <th>DAY_OF_WEEK[T.Saturday]</th>\n",
       "      <th>DAY_OF_WEEK[T.Sunday]</th>\n",
       "      <th>DAY_OF_WEEK[T.Thursday]</th>\n",
       "      <th>DAY_OF_WEEK[T.Tuesday]</th>\n",
       "      <th>DAY_OF_WEEK[T.Wednesday]</th>\n",
       "      <th>MONTH[T.July]</th>\n",
       "      <th>MONTH[T.June]</th>\n",
       "      <th>MONTH[T.October]</th>\n",
       "      <th>MONTH[T.September]</th>\n",
       "      <th>HIGH_T</th>\n",
       "      <th>LOW_T</th>\n",
       "      <th>PRECIP</th>\n",
       "    </tr>\n",
       "  </thead>\n",
       "  <tbody>\n",
       "    <tr>\n",
       "      <th>5</th>\n",
       "      <td>1.0</td>\n",
       "      <td>0.0</td>\n",
       "      <td>0.0</td>\n",
       "      <td>0.0</td>\n",
       "      <td>1.0</td>\n",
       "      <td>0.0</td>\n",
       "      <td>0.0</td>\n",
       "      <td>0.0</td>\n",
       "      <td>1.0</td>\n",
       "      <td>0.0</td>\n",
       "      <td>0.0</td>\n",
       "      <td>78.1</td>\n",
       "      <td>62.1</td>\n",
       "      <td>0.00</td>\n",
       "    </tr>\n",
       "    <tr>\n",
       "      <th>6</th>\n",
       "      <td>1.0</td>\n",
       "      <td>0.0</td>\n",
       "      <td>0.0</td>\n",
       "      <td>0.0</td>\n",
       "      <td>0.0</td>\n",
       "      <td>0.0</td>\n",
       "      <td>0.0</td>\n",
       "      <td>0.0</td>\n",
       "      <td>1.0</td>\n",
       "      <td>0.0</td>\n",
       "      <td>0.0</td>\n",
       "      <td>73.9</td>\n",
       "      <td>60.1</td>\n",
       "      <td>0.01</td>\n",
       "    </tr>\n",
       "    <tr>\n",
       "      <th>13</th>\n",
       "      <td>1.0</td>\n",
       "      <td>0.0</td>\n",
       "      <td>0.0</td>\n",
       "      <td>0.0</td>\n",
       "      <td>0.0</td>\n",
       "      <td>0.0</td>\n",
       "      <td>0.0</td>\n",
       "      <td>0.0</td>\n",
       "      <td>1.0</td>\n",
       "      <td>0.0</td>\n",
       "      <td>0.0</td>\n",
       "      <td>80.1</td>\n",
       "      <td>59.0</td>\n",
       "      <td>0.00</td>\n",
       "    </tr>\n",
       "    <tr>\n",
       "      <th>23</th>\n",
       "      <td>1.0</td>\n",
       "      <td>1.0</td>\n",
       "      <td>0.0</td>\n",
       "      <td>0.0</td>\n",
       "      <td>0.0</td>\n",
       "      <td>0.0</td>\n",
       "      <td>0.0</td>\n",
       "      <td>0.0</td>\n",
       "      <td>1.0</td>\n",
       "      <td>0.0</td>\n",
       "      <td>0.0</td>\n",
       "      <td>87.1</td>\n",
       "      <td>70.0</td>\n",
       "      <td>1.35</td>\n",
       "    </tr>\n",
       "    <tr>\n",
       "      <th>12</th>\n",
       "      <td>1.0</td>\n",
       "      <td>0.0</td>\n",
       "      <td>1.0</td>\n",
       "      <td>0.0</td>\n",
       "      <td>0.0</td>\n",
       "      <td>0.0</td>\n",
       "      <td>0.0</td>\n",
       "      <td>1.0</td>\n",
       "      <td>0.0</td>\n",
       "      <td>0.0</td>\n",
       "      <td>0.0</td>\n",
       "      <td>82.9</td>\n",
       "      <td>70.0</td>\n",
       "      <td>0.00</td>\n",
       "    </tr>\n",
       "  </tbody>\n",
       "</table>\n",
       "</div>"
      ],
      "text/plain": [
       "    Intercept  DAY_OF_WEEK[T.Monday]  DAY_OF_WEEK[T.Saturday]  \\\n",
       "5         1.0                    0.0                      0.0   \n",
       "6         1.0                    0.0                      0.0   \n",
       "13        1.0                    0.0                      0.0   \n",
       "23        1.0                    1.0                      0.0   \n",
       "12        1.0                    0.0                      1.0   \n",
       "\n",
       "    DAY_OF_WEEK[T.Sunday]  DAY_OF_WEEK[T.Thursday]  DAY_OF_WEEK[T.Tuesday]  \\\n",
       "5                     0.0                      1.0                     0.0   \n",
       "6                     0.0                      0.0                     0.0   \n",
       "13                    0.0                      0.0                     0.0   \n",
       "23                    0.0                      0.0                     0.0   \n",
       "12                    0.0                      0.0                     0.0   \n",
       "\n",
       "    DAY_OF_WEEK[T.Wednesday]  MONTH[T.July]  MONTH[T.June]  MONTH[T.October]  \\\n",
       "5                        0.0            0.0            1.0               0.0   \n",
       "6                        0.0            0.0            1.0               0.0   \n",
       "13                       0.0            0.0            1.0               0.0   \n",
       "23                       0.0            0.0            1.0               0.0   \n",
       "12                       0.0            1.0            0.0               0.0   \n",
       "\n",
       "    MONTH[T.September]  HIGH_T  LOW_T  PRECIP  \n",
       "5                  0.0    78.1   62.1    0.00  \n",
       "6                  0.0    73.9   60.1    0.01  \n",
       "13                 0.0    80.1   59.0    0.00  \n",
       "23                 0.0    87.1   70.0    1.35  \n",
       "12                 0.0    82.9   70.0    0.00  "
      ]
     },
     "execution_count": 105,
     "metadata": {},
     "output_type": "execute_result"
    }
   ],
   "source": [
    "#Setup the regression expression in patsy notation. We are telling patsy that BB_COUNT is our dependent variable and\n",
    "# it depends on the regression variables: DAY, DAY_OF_WEEK, MONTH, HIGH_T, LOW_T and PRECIP.\n",
    "expr = \"\"\"BB_COUNT ~ DAY_OF_WEEK + MONTH + HIGH_T + LOW_T + PRECIP\"\"\"\n",
    "#Set up the X and y matrices\n",
    "y_train, X_train = dmatrices(expr, df_train, return_type='dataframe')\n",
    "y_test, X_test = dmatrices(expr, df_test, return_type='dataframe')\n",
    "X_test.head()"
   ]
  },
  {
   "cell_type": "code",
   "execution_count": 106,
   "id": "47682114",
   "metadata": {},
   "outputs": [
    {
     "name": "stdout",
     "output_type": "stream",
     "text": [
      "                 Generalized Linear Model Regression Results                  \n",
      "==============================================================================\n",
      "Dep. Variable:               BB_COUNT   No. Observations:                  118\n",
      "Model:                            GLM   Df Residuals:                      104\n",
      "Model Family:                 Poisson   Df Model:                           13\n",
      "Link Function:                    log   Scale:                          1.0000\n",
      "Method:                          IRLS   Log-Likelihood:                -5593.1\n",
      "Date:                Sun, 31 Jul 2022   Deviance:                       10040.\n",
      "Time:                        20:13:06   Pearson chi2:                 9.83e+03\n",
      "No. Iterations:                     5                                         \n",
      "Covariance Type:            nonrobust                                         \n",
      "============================================================================================\n",
      "                               coef    std err          z      P>|z|      [0.025      0.975]\n",
      "--------------------------------------------------------------------------------------------\n",
      "Intercept                    7.4034      0.023    325.314      0.000       7.359       7.448\n",
      "DAY_OF_WEEK[T.Monday]        0.0350      0.007      5.163      0.000       0.022       0.048\n",
      "DAY_OF_WEEK[T.Saturday]     -0.0158      0.007     -2.288      0.022      -0.029      -0.002\n",
      "DAY_OF_WEEK[T.Sunday]       -0.1545      0.007    -21.639      0.000      -0.169      -0.141\n",
      "DAY_OF_WEEK[T.Thursday]      0.1603      0.007     24.206      0.000       0.147       0.173\n",
      "DAY_OF_WEEK[T.Tuesday]       0.0446      0.007      6.554      0.000       0.031       0.058\n",
      "DAY_OF_WEEK[T.Wednesday]     0.0886      0.007     13.201      0.000       0.075       0.102\n",
      "MONTH[T.July]               -0.0950      0.006    -15.753      0.000      -0.107      -0.083\n",
      "MONTH[T.June]               -0.0699      0.005    -12.958      0.000      -0.080      -0.059\n",
      "MONTH[T.October]            -0.0908      0.007    -13.692      0.000      -0.104      -0.078\n",
      "MONTH[T.September]          -0.0915      0.005    -16.696      0.000      -0.102      -0.081\n",
      "HIGH_T                       0.0249      0.000     53.812      0.000       0.024       0.026\n",
      "LOW_T                       -0.0202      0.001    -38.081      0.000      -0.021      -0.019\n",
      "PRECIP                      -0.5468      0.008    -65.317      0.000      -0.563      -0.530\n",
      "============================================================================================\n"
     ]
    }
   ],
   "source": [
    "poisson_training_results = sm.GLM(y_train,X_train,family=sm.families.Poisson()).fit()\n",
    "print(poisson_training_results.summary())"
   ]
  },
  {
   "cell_type": "code",
   "execution_count": 107,
   "id": "f93dc388",
   "metadata": {},
   "outputs": [
    {
     "name": "stdout",
     "output_type": "stream",
     "text": [
      "           mean    mean_se  mean_ci_lower  mean_ci_upper\n",
      "5   3576.080001  21.624723    3533.946499    3618.715840\n",
      "6   2841.537237  18.648210    2805.221476    2878.323133\n",
      "13  3409.423887  26.761424    3357.373862    3462.280854\n",
      "23  1607.977522  20.609174    1568.087411    1648.882387\n",
      "12  2808.564890  17.684561    2774.116790    2843.440755\n",
      "13  2374.651423  15.921397    2343.650199    2406.062723\n",
      "14  2889.748548  18.360754    2853.985276    2925.959970\n",
      "15  2771.192657  18.674237    2734.832468    2808.036262\n",
      "17  3392.312005  22.124835    3349.224108    3435.954229\n",
      "22  2939.625692  19.766184    2901.138847    2978.623109\n",
      "24  3636.160363  25.394374    3586.727397    3686.274624\n",
      "29  2510.906873  18.082377    2475.715011    2546.598981\n",
      "32  2822.308158  18.689441    2785.914217    2859.177534\n",
      "34  2585.438493  18.878171    2548.701458    2622.705056\n",
      "35  3572.504668  28.417986    3517.238380    3628.639353\n",
      "8   2890.573043  17.597350    2856.287822    2925.269803\n",
      "11  1772.115964  15.111636    1742.743841    1801.983124\n",
      "16  2708.529740  16.427330    2676.523376    2740.918842\n",
      "19  2041.422197  15.498910    2011.269789    2072.026641\n",
      "21  3522.250138  19.030468    3485.147901    3559.747359\n",
      "24  2564.146383  16.569776    2531.875016    2596.829082\n",
      "26  2857.322921  18.901805    2820.515196    2894.610987\n",
      "31  2674.378479  17.958488    2639.411100    2709.809112\n",
      "32  3075.215702  19.210787    3037.792818    3113.099602\n",
      "10  2115.954154  15.702115    2085.401301    2146.954631\n",
      "12  2594.351346  16.802839    2561.626533    2627.494218\n",
      "14  2433.042415  16.870582    2400.200354    2466.333856\n",
      "24  2714.790785  19.686712    2676.478449    2753.651542\n",
      "33  2604.141258  17.963641    2569.170106    2639.588431\n",
      "9   3646.895206  25.197448    3597.842003    3696.617204\n",
      "11  2852.360487  20.133699    2813.170874    2892.096041\n",
      "15  2759.251515  18.772202    2722.702893    2796.290752\n",
      "28  2234.748800  16.385141    2202.864160    2267.094944\n",
      "29  2554.594923  17.827254    2519.892015    2589.775746\n",
      "32  2588.863975  16.294343    2557.123827    2620.998097\n"
     ]
    }
   ],
   "source": [
    "poisson_predictions = poisson_training_results.get_prediction(X_test)\n",
    "predictions_summary_frame = poisson_predictions.summary_frame()\n",
    "print(predictions_summary_frame)"
   ]
  },
  {
   "cell_type": "code",
   "execution_count": 110,
   "id": "f1b4728b",
   "metadata": {},
   "outputs": [
    {
     "data": {
      "image/png": "[encoded data removed]",
      "text/plain": [
       "<Figure size 720x720 with 1 Axes>"
      ]
     },
     "metadata": {
      "needs_background": "light"
     },
     "output_type": "display_data"
    }
   ],
   "source": [
    "predicted_counts=predictions_summary_frame['mean']\n",
    "actual_counts = y_test['BB_COUNT']\n",
    "fig = plt.figure(figsize=(10,10))\n",
    "fig.suptitle('Predicted versus actual bicyclist counts on the Brooklyn bridge')\n",
    "predicted, = plt.plot(df_test['DAY'], predicted_counts, 'go-', label='Predicted counts')\n",
    "actual, = plt.plot(df_test['DAY'], actual_counts, 'ro-', label='Actual counts')\n",
    "plt.legend(handles=[predicted, actual])\n",
    "plt.xticks(rotation=45)\n",
    "plt.show()"
   ]
  },
  {
   "cell_type": "code",
   "execution_count": 114,
   "id": "9bf74a2c",
   "metadata": {},
   "outputs": [
    {
     "data": {
      "image/png": "[encoded data removed]",
      "text/plain": [
       "<Figure size 432x288 with 1 Axes>"
      ]
     },
     "metadata": {
      "needs_background": "light"
     },
     "output_type": "display_data"
    }
   ],
   "source": [
    "fig = plt.figure()\n",
    "fig.suptitle('Scatter plot of actual versus predicted counts')\n",
    "plt.scatter(x=predicted_counts,y=actual_counts,marker='.')\n",
    "plt.xlabel('Predicted counts')\n",
    "plt.ylabel('Actual counts')\n",
    "plt.show()"
   ]
  },
  {
   "cell_type": "code",
   "execution_count": 138,
   "id": "d54e41c8",
   "metadata": {},
   "outputs": [
    {
     "data": {
      "text/plain": [
       "[81.468, 128.804]"
      ]
     },
     "execution_count": 138,
     "metadata": {},
     "output_type": "execute_result"
    }
   ],
   "source": [
    "df_residuals = 104\n",
    "\n",
    "from scipy import stats\n",
    "upper = round(stats.chi2.ppf(0.95 , 104),3)\n",
    "lower = round(stats.chi2.ppf(0.05,104),3)\n",
    "[lower,upper]"
   ]
  },
  {
   "cell_type": "code",
   "execution_count": 126,
   "id": "5fb79c41",
   "metadata": {},
   "outputs": [
    {
     "ename": "NameError",
     "evalue": "name 'chi2' is not defined",
     "output_type": "error",
     "traceback": [
      "\u001b[0;31m---------------------------------------------------------------------------\u001b[0m",
      "\u001b[0;31mNameError\u001b[0m                                 Traceback (most recent call last)",
      "\u001b[0;32m/var/folders/jl/97zzvf352gg0qn93kb33f4th0000gn/T/ipykernel_1262/1304633036.py\u001b[0m in \u001b[0;36m<module>\u001b[0;34m\u001b[0m\n\u001b[0;32m----> 1\u001b[0;31m \u001b[0mchi2\u001b[0m\u001b[0;34m\u001b[0m\u001b[0;34m\u001b[0m\u001b[0m\n\u001b[0m",
      "\u001b[0;31mNameError\u001b[0m: name 'chi2' is not defined"
     ]
    }
   ],
   "source": [
    "chi2."
   ]
  },
  {
   "cell_type": "code",
   "execution_count": 157,
   "id": "c2dfdf8a",
   "metadata": {},
   "outputs": [
    {
     "name": "stdout",
     "output_type": "stream",
     "text": [
      "bad fit model\n"
     ]
    }
   ],
   "source": [
    "s = str(poisson_training_results.summary())\n",
    "gof_chi2_stat = float(s.split('Pearson chi2:')[-1].split('\\n')[0])\n",
    "dof_residuals = float(s.split('Df Residuals:')[-1].split('\\n')[0])\n",
    "upper = round(stats.chi2.ppf(0.95 , dof_residuals),3)\n",
    "lower = round(stats.chi2.ppf(0.05,dof_residuals),3)\n",
    "if gof_chi2_stat>=lower and gof_chi2_stat<=upper:\n",
    "    print('well fit model')\n",
    "else:\n",
    "    print('bad fit model')"
   ]
  },
  {
   "cell_type": "code",
   "execution_count": null,
   "id": "6149ffcc",
   "metadata": {},
   "outputs": [],
   "source": []
  }
 ],
 "metadata": {
  "kernelspec": {
   "display_name": "Python 3 (ipykernel)",
   "language": "python",
   "name": "python3"
  },
  "language_info": {
   "codemirror_mode": {
    "name": "ipython",
    "version": 3
   },
   "file_extension": ".py",
   "mimetype": "text/x-python",
   "name": "python",
   "nbconvert_exporter": "python",
   "pygments_lexer": "ipython3",
   "version": "3.9.7"
  }
 },
 "nbformat": 4,
 "nbformat_minor": 5
}
