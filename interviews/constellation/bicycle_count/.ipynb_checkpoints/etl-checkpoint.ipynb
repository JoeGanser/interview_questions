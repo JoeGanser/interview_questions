{
 "cells": [
  {
   "cell_type": "code",
   "execution_count": 16,
   "id": "99fb7e6a",
   "metadata": {},
   "outputs": [],
   "source": [
    "import os\n",
    "import pandas as pd\n",
    "import datetime\n",
    "root = '/Users/jg/Documents/DataScience/interview_questions/interviews/constellation/bicycle_count'\n",
    "files = [j for j in os.listdir(root) if '.xlsx' in j and 'April' not in j and 'May' not in j]\n",
    "\n",
    "df = pd.DataFrame()\n",
    "for f in files:\n",
    "    _ = pd.read_excel(f)\n",
    "    _.columns = _.loc[4]\n",
    "    _ = _.loc[5:]\n",
    "    _  = _[['Day','High Temp (°F)','Low Temp (°F)','Precipitation','Brooklyn Bridge']].dropna()\n",
    "    _['Day'] = pd.to_datetime(_['Day'])\n",
    "    _['Month'] = _['Day'].apply(lambda x: x.month_name())\n",
    "    _['Day_Of_Week'] = _['Day'].apply(lambda x: x.day_name())\n",
    "    df = pd.concat([_,df],axis=0)\n",
    "\n",
    "\n",
    "def parse_precipitation(x):\n",
    "    if x in ['T','S']:\n",
    "        return 0\n",
    "    else:\n",
    "        return x\n",
    "df['Precipitation'] = df['Precipitation'].apply(lambda x: parse_precipitation(x))\n",
    "df.index.name = None\n",
    "df.sort_values(by='Day',inplace=True)\n",
    "df.to_csv('bicycles.csv')"
   ]
  }
 ],
 "metadata": {
  "kernelspec": {
   "display_name": "Python 3 (ipykernel)",
   "language": "python",
   "name": "python3"
  },
  "language_info": {
   "codemirror_mode": {
    "name": "ipython",
    "version": 3
   },
   "file_extension": ".py",
   "mimetype": "text/x-python",
   "name": "python",
   "nbconvert_exporter": "python",
   "pygments_lexer": "ipython3",
   "version": "3.9.7"
  }
 },
 "nbformat": 4,
 "nbformat_minor": 5
}
