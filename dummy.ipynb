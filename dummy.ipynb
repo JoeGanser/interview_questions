{
 "cells": [
  {
   "cell_type": "code",
   "execution_count": 11,
   "id": "e78df58a",
   "metadata": {},
   "outputs": [],
   "source": [
    "class Node:\n",
    "    def __init__(self,data):\n",
    "        self.data = data\n",
    "        self.next = None\n",
    "        \n",
    "class LinkedList:\n",
    "    def __init__(self):\n",
    "        self.head = None\n",
    "    \n",
    "    def compose(self,data):\n",
    "        last = None\n",
    "        for i in data:\n",
    "            self.append(i)\n",
    "        return\n",
    "    \n",
    "    def append(self,data):\n",
    "        new_node = Node(data)\n",
    "        \n",
    "        if self.head is None:\n",
    "            self.head = new_node\n",
    "            return\n",
    "        \n",
    "        last_node = self.head\n",
    "        while last_node.next:\n",
    "            last_node = last_node.next\n",
    "        \n",
    "        last_node.next = new_node\n",
    "        \n",
    "    def print_list(self):\n",
    "        cur_node = self.head\n",
    "        while cur_node:\n",
    "            print(cur_node.data)\n",
    "            cur_node = cur_node.next\n",
    "            \n",
    "    def prepend(self,data):\n",
    "        new_node = Node(data)\n",
    "        new_node.next = self.head\n",
    "        self.head = new_node\n",
    "        \n",
    "    def insert_after_node(self,prev_node,data):\n",
    "        if not prev_node:\n",
    "            print('previous node is not in the list')\n",
    "            return\n",
    "        \n",
    "        new_node = Node(data)\n",
    "        new_node.next = prev_node.next\n",
    "        prev_node.next = new_node"
   ]
  },
  {
   "cell_type": "code",
   "execution_count": 13,
   "id": "c885a359",
   "metadata": {},
   "outputs": [
    {
     "name": "stdout",
     "output_type": "stream",
     "text": [
      "1\n",
      "2\n",
      "3\n"
     ]
    },
    {
     "data": {
      "text/plain": [
       "<__main__.Node at 0x7fe04cc0bbb0>"
      ]
     },
     "execution_count": 13,
     "metadata": {},
     "output_type": "execute_result"
    }
   ],
   "source": [
    "llist = LinkedList()\n",
    "llist.compose([1,2,3])\n",
    "llist.print_list()\n",
    "llist.head"
   ]
  },
  {
   "cell_type": "code",
   "execution_count": 17,
   "id": "7d5dbe2b",
   "metadata": {},
   "outputs": [],
   "source": [
    "class Node:\n",
    "    def __init__(self,data=None):\n",
    "        self.data = data\n",
    "        self.next = None\n",
    "\n",
    "class LinkedList:\n",
    "    def __init__(self):\n",
    "        self.head = None\n",
    "        \n",
    "    def pprint(self):\n",
    "        printval = self.head\n",
    "        while printval is not None:\n",
    "            print(printval.data)\n",
    "            printval = printval.next\n",
    "            \n",
    "    def preprend(self,data):\n",
    "        newNode = Node(data)\n",
    "        newNode.next = self.head\n",
    "        self.head = newNode\n",
    "        \n",
    "    def compose(self,data):\n",
    "        last = None\n",
    "        for index,i in enuemrate(data):\n",
    "            if index==0 and self.head is None:\n",
    "                self.head = i\n",
    "                self.append(i)\n",
    "        return\n",
    "        \n",
    "    def append(self,data):\n",
    "        newNode = Node(data)\n",
    "        if self.head is None:\n",
    "            self.head = newNode\n",
    "            return\n",
    "        last = self.head\n",
    "        while last.next:\n",
    "            last = last.next\n",
    "        last.next = newNode\n",
    "        return\n",
    "        \n",
    "    def insert(self,middle,data):\n",
    "        if middle is None:\n",
    "            print(\"the mentioned node is absent\")\n",
    "            return\n",
    "        \n",
    "        newNode = Node(data)\n",
    "        newNode.next = middle.next"
   ]
  },
  {
   "cell_type": "code",
   "execution_count": 18,
   "id": "1ad8928d",
   "metadata": {},
   "outputs": [
    {
     "name": "stdout",
     "output_type": "stream",
     "text": [
      "[1, 2, 3, 4]\n"
     ]
    }
   ],
   "source": [
    "L = LinkedList()\n",
    "L.append([1,2,3,4])\n",
    "L.pprint()"
   ]
  },
  {
   "cell_type": "code",
   "execution_count": 10,
   "id": "499efb9b",
   "metadata": {},
   "outputs": [
    {
     "data": {
      "text/plain": [
       "<__main__.Node at 0x7fe04cbf8040>"
      ]
     },
     "execution_count": 10,
     "metadata": {},
     "output_type": "execute_result"
    }
   ],
   "source": [
    "L.head"
   ]
  },
  {
   "cell_type": "code",
   "execution_count": 19,
   "id": "abc42f3f",
   "metadata": {},
   "outputs": [],
   "source": [
    "class Node:\n",
    "    def __init__(self,data):\n",
    "        self.item = data\n",
    "        self.next = None\n",
    "        self.prev = None\n",
    "        \n",
    "#should have the functionality to \n",
    "#insert items to empty list\n",
    "#insert items at the ned\n",
    "#delete ielements from the start\n",
    "#delete elements from the end\n",
    "#traversing the linked list\n",
    "\n",
    "class doublyLinkedList:\n",
    "    def __init__(self):\n",
    "        self.head = None\n",
    "    \n",
    "    def inserttoEmptyList(self,data):\n",
    "        if self.head is None:\n",
    "            new_node = Node(data)\n",
    "            self.head = new_node\n",
    "        else:\n",
    "            print(\"The list is empty\")\n",
    "            \n",
    "    def InserttoEnd(self,data):\n",
    "        #check if the list is empty\n",
    "        if self.head is None:\n",
    "            new_node = Node(data)\n",
    "            self.start_node = new_node\n",
    "            return\n",
    "        n=self.start_node\n",
    "        while n.next is not None:\n",
    "            n = n.next\n",
    "        n.next = new_node\n",
    "        new_node.prev = n\n",
    "        \n",
    "    def DeleteAtStart(self):\n",
    "        if self.head is None:\n",
    "            print(\"The linked list is empty, no element to delete\")\n",
    "            return\n",
    "        if self.head.next is None:\n",
    "            self.head = None\n",
    "            return\n",
    "        self.head = self.head.next\n",
    "        self.head_prev = None\n",
    "        \n",
    "    def DeleteAtEnd(self):\n",
    "        if self.head is None:\n",
    "            print(\"The linked list empty, no element to delete\")\n",
    "            return\n",
    "        if self.head.next is None:\n",
    "            self.head = None\n",
    "            return\n",
    "        n=self.head\n",
    "        while n.next is not None:\n",
    "            n = n.next\n",
    "        n.prev.next = None\n",
    "        \n",
    "    def Display(self):\n",
    "        if self.head is none:\n",
    "            print(\"The list is empty\")\n",
    "            return\n",
    "        else:\n",
    "            n = self.start_node\n",
    "            while n is not None:\n",
    "                print(\"Element is: \",n.item)\n",
    "                n = n.next\n",
    "            print('\\n')"
   ]
  },
  {
   "cell_type": "code",
   "execution_count": null,
   "id": "61d48f35",
   "metadata": {},
   "outputs": [],
   "source": [
    "from collections import defaultdict\n",
    "\n",
    "class Graph:\n",
    "    def __init__(self):\n",
    "        self.graph = defaultdict(list)\n",
    "        \n",
    "    def addEdge(self,u,v):\n",
    "        self.graph[u].append(v)\n",
    "        \n",
    "    def BFS(self,s):\n",
    "        visited = [False]*(max(self.graph)+1)\n",
    "        \n",
    "        queue = []\n",
    "        \n",
    "        queue.append(s)\n",
    "        visited[s]=True\n",
    "        \n",
    "        while queue:\n",
    "            s = queue.pop(0)\n",
    "            \n",
    "            print(s,end=\" \")\n",
    "            #get all adjacent vertices of dequeued vertex s. If a adjacent has not been visited, then mark\n",
    "            #it visited and enqueue it\n",
    "            for i in self.graph[s]:\n",
    "                if visited[i]==False:\n",
    "                    queue.append(i)\n",
    "                    visited[i]=True\n",
    "                    \n",
    "            "
   ]
  }
 ],
 "metadata": {
  "kernelspec": {
   "display_name": "Python 3 (ipykernel)",
   "language": "python",
   "name": "python3"
  },
  "language_info": {
   "codemirror_mode": {
    "name": "ipython",
    "version": 3
   },
   "file_extension": ".py",
   "mimetype": "text/x-python",
   "name": "python",
   "nbconvert_exporter": "python",
   "pygments_lexer": "ipython3",
   "version": "3.9.7"
  }
 },
 "nbformat": 4,
 "nbformat_minor": 5
}
